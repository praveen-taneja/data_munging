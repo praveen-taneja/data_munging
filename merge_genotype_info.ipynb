{
 "cells": [
  {
   "cell_type": "code",
   "execution_count": 8,
   "metadata": {
    "collapsed": false
   },
   "outputs": [
    {
     "data": {
      "text/plain": [
       "'\\nmerge genotype info from one table to the other based on a common column.\\n'"
      ]
     },
     "execution_count": 8,
     "metadata": {},
     "output_type": "execute_result"
    }
   ],
   "source": [
    "'''\n",
    "merge genotype info from one table to the other based on a common column.\n",
    "'''"
   ]
  },
  {
   "cell_type": "code",
   "execution_count": 9,
   "metadata": {
    "collapsed": false
   },
   "outputs": [],
   "source": [
    "import wx\n",
    "import pandas as pd"
   ]
  },
  {
   "cell_type": "code",
   "execution_count": 10,
   "metadata": {
    "collapsed": false
   },
   "outputs": [],
   "source": [
    "def get_path(wildcard, title_text):\n",
    "    app = wx.App(None)\n",
    "    style = wx.FD_OPEN | wx.FD_FILE_MUST_EXIST\n",
    "    dialog = wx.FileDialog(None, title_text, wildcard=wildcard, style=style)\n",
    "    if dialog.ShowModal() == wx.ID_OK:\n",
    "        path = dialog.GetPath()\n",
    "    else:\n",
    "        path = None\n",
    "        sys.exit()\n",
    "    dialog.Destroy()\n",
    "    return path"
   ]
  },
  {
   "cell_type": "code",
   "execution_count": 11,
   "metadata": {
    "collapsed": false
   },
   "outputs": [
    {
     "name": "stdout",
     "output_type": "stream",
     "text": [
      "loading data file /Users/taneja/work/predicted_test1.csv\n",
      "              0             1             2             3             4  \\\n",
      "0  3.050000e-10  3.050000e-10  3.050000e-10  3.040000e-10  3.040000e-10   \n",
      "1  3.060000e-10  3.060000e-10  3.060000e-10  3.060000e-10  3.060000e-10   \n",
      "\n",
      "              5             6             7             8             9  \\\n",
      "0  3.040000e-10  3.040000e-10  3.040000e-10  3.040000e-10  3.030000e-10   \n",
      "1  3.060000e-10  3.060000e-10  3.060000e-10  3.060000e-10  3.060000e-10   \n",
      "\n",
      "     ...                98            99  peak_x        peak_y  \\\n",
      "0    ...      3.050000e-10  3.050000e-10     884  3.020000e-10   \n",
      "1    ...      3.050000e-10  3.050000e-10    1601  3.000000e-10   \n",
      "\n",
      "        file_name  selected  threshold_x  threshold_rel_x   threshold_y  \\\n",
      "0  Cell_0001_0011         0          850               16  3.040000e-10   \n",
      "1  Cell_0001_0011         0         1567               16  3.040000e-10   \n",
      "\n",
      "   cell_name  \n",
      "0  Cell_0001  \n",
      "1  Cell_0001  \n",
      "\n",
      "[2 rows x 108 columns]\n"
     ]
    }
   ],
   "source": [
    "data_fn = get_path('*.*', 'Choose data file')\n",
    "data = pd.read_table(data_fn, delimiter = ',')\n",
    "print 'loading data file', data_fn\n",
    "data['cell_name'] = data['file_name'].map(lambda fn: fn[:9])\n",
    "print data.head(2)"
   ]
  },
  {
   "cell_type": "code",
   "execution_count": 12,
   "metadata": {
    "collapsed": false
   },
   "outputs": [
    {
     "name": "stdout",
     "output_type": "stream",
     "text": [
      "loading info file /Users/taneja/work/mouse_info.csv\n",
      "   cell_name      date genotype     sex mouse_line  mouse_id        dob  \\\n",
      "0  Cell_0001  09_15_15      ntg  female     283.1A      1136  6/23/2015   \n",
      "1  Cell_0002  09_15_15      ntg  female     283.1A      1136  6/23/2015   \n",
      "\n",
      "  date_of_expt  age_in days  \n",
      "0    9/15/2015           84  \n",
      "1    9/15/2015           84  \n"
     ]
    }
   ],
   "source": [
    "info_fn = get_path('*.*', 'Choose info file')\n",
    "info = pd.read_table(info_fn, delimiter = ',')\n",
    "print 'loading info file', info_fn\n",
    "print info.head(2)"
   ]
  },
  {
   "cell_type": "code",
   "execution_count": 13,
   "metadata": {
    "collapsed": false
   },
   "outputs": [
    {
     "data": {
      "text/html": [
       "<div>\n",
       "<table border=\"1\" class=\"dataframe\">\n",
       "  <thead>\n",
       "    <tr style=\"text-align: right;\">\n",
       "      <th></th>\n",
       "      <th>0</th>\n",
       "      <th>1</th>\n",
       "      <th>2</th>\n",
       "      <th>3</th>\n",
       "      <th>4</th>\n",
       "      <th>5</th>\n",
       "      <th>6</th>\n",
       "      <th>7</th>\n",
       "      <th>8</th>\n",
       "      <th>9</th>\n",
       "      <th>...</th>\n",
       "      <th>threshold_y</th>\n",
       "      <th>cell_name</th>\n",
       "      <th>date</th>\n",
       "      <th>genotype</th>\n",
       "      <th>sex</th>\n",
       "      <th>mouse_line</th>\n",
       "      <th>mouse_id</th>\n",
       "      <th>dob</th>\n",
       "      <th>date_of_expt</th>\n",
       "      <th>age_in days</th>\n",
       "    </tr>\n",
       "  </thead>\n",
       "  <tbody>\n",
       "    <tr>\n",
       "      <th>0</th>\n",
       "      <td>3.050000e-10</td>\n",
       "      <td>3.050000e-10</td>\n",
       "      <td>3.050000e-10</td>\n",
       "      <td>3.040000e-10</td>\n",
       "      <td>3.040000e-10</td>\n",
       "      <td>3.040000e-10</td>\n",
       "      <td>3.040000e-10</td>\n",
       "      <td>3.040000e-10</td>\n",
       "      <td>3.040000e-10</td>\n",
       "      <td>3.030000e-10</td>\n",
       "      <td>...</td>\n",
       "      <td>3.040000e-10</td>\n",
       "      <td>Cell_0001</td>\n",
       "      <td>09_15_15</td>\n",
       "      <td>ntg</td>\n",
       "      <td>female</td>\n",
       "      <td>283.1A</td>\n",
       "      <td>1136</td>\n",
       "      <td>6/23/2015</td>\n",
       "      <td>9/15/2015</td>\n",
       "      <td>84</td>\n",
       "    </tr>\n",
       "    <tr>\n",
       "      <th>1</th>\n",
       "      <td>3.060000e-10</td>\n",
       "      <td>3.060000e-10</td>\n",
       "      <td>3.060000e-10</td>\n",
       "      <td>3.060000e-10</td>\n",
       "      <td>3.060000e-10</td>\n",
       "      <td>3.060000e-10</td>\n",
       "      <td>3.060000e-10</td>\n",
       "      <td>3.060000e-10</td>\n",
       "      <td>3.060000e-10</td>\n",
       "      <td>3.060000e-10</td>\n",
       "      <td>...</td>\n",
       "      <td>3.040000e-10</td>\n",
       "      <td>Cell_0001</td>\n",
       "      <td>09_15_15</td>\n",
       "      <td>ntg</td>\n",
       "      <td>female</td>\n",
       "      <td>283.1A</td>\n",
       "      <td>1136</td>\n",
       "      <td>6/23/2015</td>\n",
       "      <td>9/15/2015</td>\n",
       "      <td>84</td>\n",
       "    </tr>\n",
       "    <tr>\n",
       "      <th>2</th>\n",
       "      <td>3.040000e-10</td>\n",
       "      <td>3.040000e-10</td>\n",
       "      <td>3.040000e-10</td>\n",
       "      <td>3.040000e-10</td>\n",
       "      <td>3.040000e-10</td>\n",
       "      <td>3.040000e-10</td>\n",
       "      <td>3.040000e-10</td>\n",
       "      <td>3.040000e-10</td>\n",
       "      <td>3.040000e-10</td>\n",
       "      <td>3.040000e-10</td>\n",
       "      <td>...</td>\n",
       "      <td>3.040000e-10</td>\n",
       "      <td>Cell_0001</td>\n",
       "      <td>09_15_15</td>\n",
       "      <td>ntg</td>\n",
       "      <td>female</td>\n",
       "      <td>283.1A</td>\n",
       "      <td>1136</td>\n",
       "      <td>6/23/2015</td>\n",
       "      <td>9/15/2015</td>\n",
       "      <td>84</td>\n",
       "    </tr>\n",
       "    <tr>\n",
       "      <th>3</th>\n",
       "      <td>3.060000e-10</td>\n",
       "      <td>3.060000e-10</td>\n",
       "      <td>3.060000e-10</td>\n",
       "      <td>3.060000e-10</td>\n",
       "      <td>3.060000e-10</td>\n",
       "      <td>3.060000e-10</td>\n",
       "      <td>3.060000e-10</td>\n",
       "      <td>3.060000e-10</td>\n",
       "      <td>3.060000e-10</td>\n",
       "      <td>3.060000e-10</td>\n",
       "      <td>...</td>\n",
       "      <td>3.060000e-10</td>\n",
       "      <td>Cell_0001</td>\n",
       "      <td>09_15_15</td>\n",
       "      <td>ntg</td>\n",
       "      <td>female</td>\n",
       "      <td>283.1A</td>\n",
       "      <td>1136</td>\n",
       "      <td>6/23/2015</td>\n",
       "      <td>9/15/2015</td>\n",
       "      <td>84</td>\n",
       "    </tr>\n",
       "    <tr>\n",
       "      <th>4</th>\n",
       "      <td>3.020000e-10</td>\n",
       "      <td>3.020000e-10</td>\n",
       "      <td>3.010000e-10</td>\n",
       "      <td>3.010000e-10</td>\n",
       "      <td>3.010000e-10</td>\n",
       "      <td>3.010000e-10</td>\n",
       "      <td>3.000000e-10</td>\n",
       "      <td>3.000000e-10</td>\n",
       "      <td>3.000000e-10</td>\n",
       "      <td>3.000000e-10</td>\n",
       "      <td>...</td>\n",
       "      <td>2.990000e-10</td>\n",
       "      <td>Cell_0001</td>\n",
       "      <td>09_15_15</td>\n",
       "      <td>ntg</td>\n",
       "      <td>female</td>\n",
       "      <td>283.1A</td>\n",
       "      <td>1136</td>\n",
       "      <td>6/23/2015</td>\n",
       "      <td>9/15/2015</td>\n",
       "      <td>84</td>\n",
       "    </tr>\n",
       "  </tbody>\n",
       "</table>\n",
       "<p>5 rows × 116 columns</p>\n",
       "</div>"
      ],
      "text/plain": [
       "              0             1             2             3             4  \\\n",
       "0  3.050000e-10  3.050000e-10  3.050000e-10  3.040000e-10  3.040000e-10   \n",
       "1  3.060000e-10  3.060000e-10  3.060000e-10  3.060000e-10  3.060000e-10   \n",
       "2  3.040000e-10  3.040000e-10  3.040000e-10  3.040000e-10  3.040000e-10   \n",
       "3  3.060000e-10  3.060000e-10  3.060000e-10  3.060000e-10  3.060000e-10   \n",
       "4  3.020000e-10  3.020000e-10  3.010000e-10  3.010000e-10  3.010000e-10   \n",
       "\n",
       "              5             6             7             8             9  \\\n",
       "0  3.040000e-10  3.040000e-10  3.040000e-10  3.040000e-10  3.030000e-10   \n",
       "1  3.060000e-10  3.060000e-10  3.060000e-10  3.060000e-10  3.060000e-10   \n",
       "2  3.040000e-10  3.040000e-10  3.040000e-10  3.040000e-10  3.040000e-10   \n",
       "3  3.060000e-10  3.060000e-10  3.060000e-10  3.060000e-10  3.060000e-10   \n",
       "4  3.010000e-10  3.000000e-10  3.000000e-10  3.000000e-10  3.000000e-10   \n",
       "\n",
       "      ...        threshold_y  cell_name      date  genotype     sex  \\\n",
       "0     ...       3.040000e-10  Cell_0001  09_15_15       ntg  female   \n",
       "1     ...       3.040000e-10  Cell_0001  09_15_15       ntg  female   \n",
       "2     ...       3.040000e-10  Cell_0001  09_15_15       ntg  female   \n",
       "3     ...       3.060000e-10  Cell_0001  09_15_15       ntg  female   \n",
       "4     ...       2.990000e-10  Cell_0001  09_15_15       ntg  female   \n",
       "\n",
       "   mouse_line  mouse_id        dob  date_of_expt  age_in days  \n",
       "0      283.1A      1136  6/23/2015     9/15/2015           84  \n",
       "1      283.1A      1136  6/23/2015     9/15/2015           84  \n",
       "2      283.1A      1136  6/23/2015     9/15/2015           84  \n",
       "3      283.1A      1136  6/23/2015     9/15/2015           84  \n",
       "4      283.1A      1136  6/23/2015     9/15/2015           84  \n",
       "\n",
       "[5 rows x 116 columns]"
      ]
     },
     "execution_count": 13,
     "metadata": {},
     "output_type": "execute_result"
    }
   ],
   "source": [
    "df_merge = pd.merge(data, info, on = 'cell_name', sort = False)\n",
    "df_merge.head(5)"
   ]
  },
  {
   "cell_type": "code",
   "execution_count": 14,
   "metadata": {
    "collapsed": true
   },
   "outputs": [],
   "source": [
    "df_merge.to_csv(data_fn, index = False)"
   ]
  },
  {
   "cell_type": "code",
   "execution_count": null,
   "metadata": {
    "collapsed": true
   },
   "outputs": [],
   "source": []
  },
  {
   "cell_type": "code",
   "execution_count": null,
   "metadata": {
    "collapsed": true
   },
   "outputs": [],
   "source": []
  }
 ],
 "metadata": {
  "kernelspec": {
   "display_name": "Python 2",
   "language": "python",
   "name": "python2"
  },
  "language_info": {
   "codemirror_mode": {
    "name": "ipython",
    "version": 2
   },
   "file_extension": ".py",
   "mimetype": "text/x-python",
   "name": "python",
   "nbconvert_exporter": "python",
   "pygments_lexer": "ipython2",
   "version": "2.7.9"
  }
 },
 "nbformat": 4,
 "nbformat_minor": 0
}
